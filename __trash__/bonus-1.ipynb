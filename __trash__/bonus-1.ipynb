{
 "cells": [
  {
   "cell_type": "code",
   "execution_count": 1,
   "metadata": {},
   "outputs": [],
   "source": [
    "import pandas as pd\n",
    "from sqlalchemy import create_engine"
   ]
  },
  {
   "cell_type": "code",
   "execution_count": 2,
   "metadata": {},
   "outputs": [],
   "source": [
    "path = '../data/raw/raw_data_project_m1.db'\n",
    "conn_str = f'sqlite:///{path}'\n",
    "engine = create_engine(conn_str)"
   ]
  },
  {
   "cell_type": "code",
   "execution_count": 3,
   "metadata": {},
   "outputs": [],
   "source": [
    "votes_data = pd.read_sql_query(\"\"\"\n",
    "    SELECT poll_info.question_bbi_2016wave4_basicincome_vote,\n",
    "    poll_info.question_bbi_2016wave4_basicincome_argumentsfor,\n",
    "    poll_info.question_bbi_2016wave4_basicincome_argumentsagainst\n",
    "    FROM poll_info;\n",
    "    \"\"\", engine)"
   ]
  },
  {
   "cell_type": "code",
   "execution_count": 4,
   "metadata": {},
   "outputs": [
    {
     "data": {
      "text/html": [
       "<div>\n",
       "<style scoped>\n",
       "    .dataframe tbody tr th:only-of-type {\n",
       "        vertical-align: middle;\n",
       "    }\n",
       "\n",
       "    .dataframe tbody tr th {\n",
       "        vertical-align: top;\n",
       "    }\n",
       "\n",
       "    .dataframe thead th {\n",
       "        text-align: right;\n",
       "    }\n",
       "</style>\n",
       "<table border=\"1\" class=\"dataframe\">\n",
       "  <thead>\n",
       "    <tr style=\"text-align: right;\">\n",
       "      <th></th>\n",
       "      <th>question_bbi_2016wave4_basicincome_vote</th>\n",
       "      <th>question_bbi_2016wave4_basicincome_argumentsfor</th>\n",
       "      <th>question_bbi_2016wave4_basicincome_argumentsagainst</th>\n",
       "    </tr>\n",
       "  </thead>\n",
       "  <tbody>\n",
       "    <tr>\n",
       "      <th>0</th>\n",
       "      <td>I would not vote</td>\n",
       "      <td>None of the above</td>\n",
       "      <td>None of the above</td>\n",
       "    </tr>\n",
       "    <tr>\n",
       "      <th>1</th>\n",
       "      <td>I would probably vote for it</td>\n",
       "      <td>It increases appreciation for household work a...</td>\n",
       "      <td>It might encourage people to stop working</td>\n",
       "    </tr>\n",
       "    <tr>\n",
       "      <th>2</th>\n",
       "      <td>I would not vote</td>\n",
       "      <td>It creates more equality of opportunity</td>\n",
       "      <td>Foreigners might come to my country and take a...</td>\n",
       "    </tr>\n",
       "    <tr>\n",
       "      <th>3</th>\n",
       "      <td>I would probably vote for it</td>\n",
       "      <td>It reduces anxiety about financing basic needs</td>\n",
       "      <td>None of the above</td>\n",
       "    </tr>\n",
       "    <tr>\n",
       "      <th>4</th>\n",
       "      <td>I would probably vote for it</td>\n",
       "      <td>It reduces anxiety about financing basic needs</td>\n",
       "      <td>It is impossible to finance | It might encoura...</td>\n",
       "    </tr>\n",
       "    <tr>\n",
       "      <th>...</th>\n",
       "      <td>...</td>\n",
       "      <td>...</td>\n",
       "      <td>...</td>\n",
       "    </tr>\n",
       "    <tr>\n",
       "      <th>9644</th>\n",
       "      <td>I would probably vote for it</td>\n",
       "      <td>It reduces bureaucracy and administrative expe...</td>\n",
       "      <td>It is impossible to finance</td>\n",
       "    </tr>\n",
       "    <tr>\n",
       "      <th>9645</th>\n",
       "      <td>I would probably vote against it</td>\n",
       "      <td>It reduces bureaucracy and administrative expe...</td>\n",
       "      <td>It might encourage people to stop working | On...</td>\n",
       "    </tr>\n",
       "    <tr>\n",
       "      <th>9646</th>\n",
       "      <td>I would not vote</td>\n",
       "      <td>It reduces anxiety about financing basic needs</td>\n",
       "      <td>None of the above</td>\n",
       "    </tr>\n",
       "    <tr>\n",
       "      <th>9647</th>\n",
       "      <td>I would vote for it</td>\n",
       "      <td>It reduces bureaucracy and administrative expe...</td>\n",
       "      <td>Foreigners might come to my country and take a...</td>\n",
       "    </tr>\n",
       "    <tr>\n",
       "      <th>9648</th>\n",
       "      <td>I would vote against it</td>\n",
       "      <td>It reduces bureaucracy and administrative expe...</td>\n",
       "      <td>It might encourage people to stop working | It...</td>\n",
       "    </tr>\n",
       "  </tbody>\n",
       "</table>\n",
       "<p>9649 rows × 3 columns</p>\n",
       "</div>"
      ],
      "text/plain": [
       "     question_bbi_2016wave4_basicincome_vote  \\\n",
       "0                           I would not vote   \n",
       "1               I would probably vote for it   \n",
       "2                           I would not vote   \n",
       "3               I would probably vote for it   \n",
       "4               I would probably vote for it   \n",
       "...                                      ...   \n",
       "9644            I would probably vote for it   \n",
       "9645        I would probably vote against it   \n",
       "9646                        I would not vote   \n",
       "9647                     I would vote for it   \n",
       "9648                 I would vote against it   \n",
       "\n",
       "        question_bbi_2016wave4_basicincome_argumentsfor  \\\n",
       "0                                     None of the above   \n",
       "1     It increases appreciation for household work a...   \n",
       "2               It creates more equality of opportunity   \n",
       "3        It reduces anxiety about financing basic needs   \n",
       "4        It reduces anxiety about financing basic needs   \n",
       "...                                                 ...   \n",
       "9644  It reduces bureaucracy and administrative expe...   \n",
       "9645  It reduces bureaucracy and administrative expe...   \n",
       "9646     It reduces anxiety about financing basic needs   \n",
       "9647  It reduces bureaucracy and administrative expe...   \n",
       "9648  It reduces bureaucracy and administrative expe...   \n",
       "\n",
       "     question_bbi_2016wave4_basicincome_argumentsagainst  \n",
       "0                                     None of the above   \n",
       "1             It might encourage people to stop working   \n",
       "2     Foreigners might come to my country and take a...   \n",
       "3                                     None of the above   \n",
       "4     It is impossible to finance | It might encoura...   \n",
       "...                                                 ...   \n",
       "9644                        It is impossible to finance   \n",
       "9645  It might encourage people to stop working | On...   \n",
       "9646                                  None of the above   \n",
       "9647  Foreigners might come to my country and take a...   \n",
       "9648  It might encourage people to stop working | It...   \n",
       "\n",
       "[9649 rows x 3 columns]"
      ]
     },
     "execution_count": 4,
     "metadata": {},
     "output_type": "execute_result"
    }
   ],
   "source": [
    "votes_data"
   ]
  },
  {
   "cell_type": "code",
   "execution_count": 5,
   "metadata": {},
   "outputs": [],
   "source": [
    "poll_data = votes_data.rename(columns={'question_bbi_2016wave4_basicincome_vote' : 'vote', 'question_bbi_2016wave4_basicincome_argumentsfor' : 'pro_args',\n",
    "                          'question_bbi_2016wave4_basicincome_argumentsagainst' : 'con_args'})"
   ]
  },
  {
   "cell_type": "code",
   "execution_count": 6,
   "metadata": {},
   "outputs": [
    {
     "data": {
      "text/html": [
       "<div>\n",
       "<style scoped>\n",
       "    .dataframe tbody tr th:only-of-type {\n",
       "        vertical-align: middle;\n",
       "    }\n",
       "\n",
       "    .dataframe tbody tr th {\n",
       "        vertical-align: top;\n",
       "    }\n",
       "\n",
       "    .dataframe thead th {\n",
       "        text-align: right;\n",
       "    }\n",
       "</style>\n",
       "<table border=\"1\" class=\"dataframe\">\n",
       "  <thead>\n",
       "    <tr style=\"text-align: right;\">\n",
       "      <th></th>\n",
       "      <th>vote</th>\n",
       "      <th>pro_args</th>\n",
       "      <th>con_args</th>\n",
       "    </tr>\n",
       "  </thead>\n",
       "  <tbody>\n",
       "    <tr>\n",
       "      <th>0</th>\n",
       "      <td>I would not vote</td>\n",
       "      <td>None of the above</td>\n",
       "      <td>None of the above</td>\n",
       "    </tr>\n",
       "    <tr>\n",
       "      <th>1</th>\n",
       "      <td>I would probably vote for it</td>\n",
       "      <td>It increases appreciation for household work a...</td>\n",
       "      <td>It might encourage people to stop working</td>\n",
       "    </tr>\n",
       "    <tr>\n",
       "      <th>2</th>\n",
       "      <td>I would not vote</td>\n",
       "      <td>It creates more equality of opportunity</td>\n",
       "      <td>Foreigners might come to my country and take a...</td>\n",
       "    </tr>\n",
       "    <tr>\n",
       "      <th>3</th>\n",
       "      <td>I would probably vote for it</td>\n",
       "      <td>It reduces anxiety about financing basic needs</td>\n",
       "      <td>None of the above</td>\n",
       "    </tr>\n",
       "    <tr>\n",
       "      <th>4</th>\n",
       "      <td>I would probably vote for it</td>\n",
       "      <td>It reduces anxiety about financing basic needs</td>\n",
       "      <td>It is impossible to finance | It might encoura...</td>\n",
       "    </tr>\n",
       "    <tr>\n",
       "      <th>...</th>\n",
       "      <td>...</td>\n",
       "      <td>...</td>\n",
       "      <td>...</td>\n",
       "    </tr>\n",
       "    <tr>\n",
       "      <th>9644</th>\n",
       "      <td>I would probably vote for it</td>\n",
       "      <td>It reduces bureaucracy and administrative expe...</td>\n",
       "      <td>It is impossible to finance</td>\n",
       "    </tr>\n",
       "    <tr>\n",
       "      <th>9645</th>\n",
       "      <td>I would probably vote against it</td>\n",
       "      <td>It reduces bureaucracy and administrative expe...</td>\n",
       "      <td>It might encourage people to stop working | On...</td>\n",
       "    </tr>\n",
       "    <tr>\n",
       "      <th>9646</th>\n",
       "      <td>I would not vote</td>\n",
       "      <td>It reduces anxiety about financing basic needs</td>\n",
       "      <td>None of the above</td>\n",
       "    </tr>\n",
       "    <tr>\n",
       "      <th>9647</th>\n",
       "      <td>I would vote for it</td>\n",
       "      <td>It reduces bureaucracy and administrative expe...</td>\n",
       "      <td>Foreigners might come to my country and take a...</td>\n",
       "    </tr>\n",
       "    <tr>\n",
       "      <th>9648</th>\n",
       "      <td>I would vote against it</td>\n",
       "      <td>It reduces bureaucracy and administrative expe...</td>\n",
       "      <td>It might encourage people to stop working | It...</td>\n",
       "    </tr>\n",
       "  </tbody>\n",
       "</table>\n",
       "<p>9649 rows × 3 columns</p>\n",
       "</div>"
      ],
      "text/plain": [
       "                                  vote  \\\n",
       "0                     I would not vote   \n",
       "1         I would probably vote for it   \n",
       "2                     I would not vote   \n",
       "3         I would probably vote for it   \n",
       "4         I would probably vote for it   \n",
       "...                                ...   \n",
       "9644      I would probably vote for it   \n",
       "9645  I would probably vote against it   \n",
       "9646                  I would not vote   \n",
       "9647               I would vote for it   \n",
       "9648           I would vote against it   \n",
       "\n",
       "                                               pro_args  \\\n",
       "0                                     None of the above   \n",
       "1     It increases appreciation for household work a...   \n",
       "2               It creates more equality of opportunity   \n",
       "3        It reduces anxiety about financing basic needs   \n",
       "4        It reduces anxiety about financing basic needs   \n",
       "...                                                 ...   \n",
       "9644  It reduces bureaucracy and administrative expe...   \n",
       "9645  It reduces bureaucracy and administrative expe...   \n",
       "9646     It reduces anxiety about financing basic needs   \n",
       "9647  It reduces bureaucracy and administrative expe...   \n",
       "9648  It reduces bureaucracy and administrative expe...   \n",
       "\n",
       "                                               con_args  \n",
       "0                                     None of the above  \n",
       "1             It might encourage people to stop working  \n",
       "2     Foreigners might come to my country and take a...  \n",
       "3                                     None of the above  \n",
       "4     It is impossible to finance | It might encoura...  \n",
       "...                                                 ...  \n",
       "9644                        It is impossible to finance  \n",
       "9645  It might encourage people to stop working | On...  \n",
       "9646                                  None of the above  \n",
       "9647  Foreigners might come to my country and take a...  \n",
       "9648  It might encourage people to stop working | It...  \n",
       "\n",
       "[9649 rows x 3 columns]"
      ]
     },
     "execution_count": 6,
     "metadata": {},
     "output_type": "execute_result"
    }
   ],
   "source": [
    "poll_data"
   ]
  },
  {
   "cell_type": "code",
   "execution_count": 7,
   "metadata": {},
   "outputs": [],
   "source": [
    "votes = poll_data['vote'].unique().tolist()"
   ]
  },
  {
   "cell_type": "code",
   "execution_count": 8,
   "metadata": {},
   "outputs": [
    {
     "data": {
      "text/plain": [
       "['I would not vote',\n",
       " 'I would probably vote for it',\n",
       " 'I would vote against it',\n",
       " 'I would vote for it',\n",
       " 'I would probably vote against it']"
      ]
     },
     "execution_count": 8,
     "metadata": {},
     "output_type": "execute_result"
    }
   ],
   "source": [
    "votes"
   ]
  },
  {
   "cell_type": "code",
   "execution_count": 9,
   "metadata": {},
   "outputs": [],
   "source": [
    "for_list = ['I would vote for it', 'I would probably vote for it' ]\n",
    "against_list = ['I would vote against it', 'I would probably vote against it']\n",
    "abstain_list = ['I would not vote']"
   ]
  },
  {
   "cell_type": "code",
   "execution_count": 10,
   "metadata": {},
   "outputs": [],
   "source": [
    "for i in for_list:\n",
    "    for_voting = poll_data[poll_data['vote'] == i]"
   ]
  },
  {
   "cell_type": "code",
   "execution_count": 11,
   "metadata": {},
   "outputs": [
    {
     "data": {
      "text/html": [
       "<div>\n",
       "<style scoped>\n",
       "    .dataframe tbody tr th:only-of-type {\n",
       "        vertical-align: middle;\n",
       "    }\n",
       "\n",
       "    .dataframe tbody tr th {\n",
       "        vertical-align: top;\n",
       "    }\n",
       "\n",
       "    .dataframe thead th {\n",
       "        text-align: right;\n",
       "    }\n",
       "</style>\n",
       "<table border=\"1\" class=\"dataframe\">\n",
       "  <thead>\n",
       "    <tr style=\"text-align: right;\">\n",
       "      <th></th>\n",
       "      <th>vote</th>\n",
       "      <th>pro_args</th>\n",
       "      <th>con_args</th>\n",
       "    </tr>\n",
       "  </thead>\n",
       "  <tbody>\n",
       "    <tr>\n",
       "      <th>1</th>\n",
       "      <td>I would probably vote for it</td>\n",
       "      <td>It increases appreciation for household work a...</td>\n",
       "      <td>It might encourage people to stop working</td>\n",
       "    </tr>\n",
       "    <tr>\n",
       "      <th>3</th>\n",
       "      <td>I would probably vote for it</td>\n",
       "      <td>It reduces anxiety about financing basic needs</td>\n",
       "      <td>None of the above</td>\n",
       "    </tr>\n",
       "    <tr>\n",
       "      <th>4</th>\n",
       "      <td>I would probably vote for it</td>\n",
       "      <td>It reduces anxiety about financing basic needs</td>\n",
       "      <td>It is impossible to finance | It might encoura...</td>\n",
       "    </tr>\n",
       "    <tr>\n",
       "      <th>6</th>\n",
       "      <td>I would probably vote for it</td>\n",
       "      <td>It reduces anxiety about financing basic needs</td>\n",
       "      <td>Foreigners might come to my country and take a...</td>\n",
       "    </tr>\n",
       "    <tr>\n",
       "      <th>7</th>\n",
       "      <td>I would probably vote for it</td>\n",
       "      <td>It increases appreciation for household work a...</td>\n",
       "      <td>It might encourage people to stop working | Fo...</td>\n",
       "    </tr>\n",
       "    <tr>\n",
       "      <th>...</th>\n",
       "      <td>...</td>\n",
       "      <td>...</td>\n",
       "      <td>...</td>\n",
       "    </tr>\n",
       "    <tr>\n",
       "      <th>9636</th>\n",
       "      <td>I would probably vote for it</td>\n",
       "      <td>It creates more equality of opportunity | It r...</td>\n",
       "      <td>It might encourage people to stop working | It...</td>\n",
       "    </tr>\n",
       "    <tr>\n",
       "      <th>9638</th>\n",
       "      <td>I would probably vote for it</td>\n",
       "      <td>It reduces anxiety about financing basic needs</td>\n",
       "      <td>It might encourage people to stop working</td>\n",
       "    </tr>\n",
       "    <tr>\n",
       "      <th>9642</th>\n",
       "      <td>I would probably vote for it</td>\n",
       "      <td>None of the above</td>\n",
       "      <td>None of the above</td>\n",
       "    </tr>\n",
       "    <tr>\n",
       "      <th>9643</th>\n",
       "      <td>I would probably vote for it</td>\n",
       "      <td>It increases solidarity, because it is funded ...</td>\n",
       "      <td>It might encourage people to stop working | It...</td>\n",
       "    </tr>\n",
       "    <tr>\n",
       "      <th>9644</th>\n",
       "      <td>I would probably vote for it</td>\n",
       "      <td>It reduces bureaucracy and administrative expe...</td>\n",
       "      <td>It is impossible to finance</td>\n",
       "    </tr>\n",
       "  </tbody>\n",
       "</table>\n",
       "<p>3272 rows × 3 columns</p>\n",
       "</div>"
      ],
      "text/plain": [
       "                              vote  \\\n",
       "1     I would probably vote for it   \n",
       "3     I would probably vote for it   \n",
       "4     I would probably vote for it   \n",
       "6     I would probably vote for it   \n",
       "7     I would probably vote for it   \n",
       "...                            ...   \n",
       "9636  I would probably vote for it   \n",
       "9638  I would probably vote for it   \n",
       "9642  I would probably vote for it   \n",
       "9643  I would probably vote for it   \n",
       "9644  I would probably vote for it   \n",
       "\n",
       "                                               pro_args  \\\n",
       "1     It increases appreciation for household work a...   \n",
       "3        It reduces anxiety about financing basic needs   \n",
       "4        It reduces anxiety about financing basic needs   \n",
       "6        It reduces anxiety about financing basic needs   \n",
       "7     It increases appreciation for household work a...   \n",
       "...                                                 ...   \n",
       "9636  It creates more equality of opportunity | It r...   \n",
       "9638     It reduces anxiety about financing basic needs   \n",
       "9642                                  None of the above   \n",
       "9643  It increases solidarity, because it is funded ...   \n",
       "9644  It reduces bureaucracy and administrative expe...   \n",
       "\n",
       "                                               con_args  \n",
       "1             It might encourage people to stop working  \n",
       "3                                     None of the above  \n",
       "4     It is impossible to finance | It might encoura...  \n",
       "6     Foreigners might come to my country and take a...  \n",
       "7     It might encourage people to stop working | Fo...  \n",
       "...                                                 ...  \n",
       "9636  It might encourage people to stop working | It...  \n",
       "9638          It might encourage people to stop working  \n",
       "9642                                  None of the above  \n",
       "9643  It might encourage people to stop working | It...  \n",
       "9644                        It is impossible to finance  \n",
       "\n",
       "[3272 rows x 3 columns]"
      ]
     },
     "execution_count": 11,
     "metadata": {},
     "output_type": "execute_result"
    }
   ],
   "source": [
    "for_voting"
   ]
  },
  {
   "cell_type": "code",
   "execution_count": 12,
   "metadata": {},
   "outputs": [],
   "source": [
    "for i in against_list:\n",
    "    against_voting = poll_data[poll_data['vote'] == i]"
   ]
  },
  {
   "cell_type": "code",
   "execution_count": 13,
   "metadata": {},
   "outputs": [
    {
     "data": {
      "text/html": [
       "<div>\n",
       "<style scoped>\n",
       "    .dataframe tbody tr th:only-of-type {\n",
       "        vertical-align: middle;\n",
       "    }\n",
       "\n",
       "    .dataframe tbody tr th {\n",
       "        vertical-align: top;\n",
       "    }\n",
       "\n",
       "    .dataframe thead th {\n",
       "        text-align: right;\n",
       "    }\n",
       "</style>\n",
       "<table border=\"1\" class=\"dataframe\">\n",
       "  <thead>\n",
       "    <tr style=\"text-align: right;\">\n",
       "      <th></th>\n",
       "      <th>vote</th>\n",
       "      <th>pro_args</th>\n",
       "      <th>con_args</th>\n",
       "    </tr>\n",
       "  </thead>\n",
       "  <tbody>\n",
       "    <tr>\n",
       "      <th>18</th>\n",
       "      <td>I would probably vote against it</td>\n",
       "      <td>It creates more equality of opportunity</td>\n",
       "      <td>It is impossible to finance | It might encoura...</td>\n",
       "    </tr>\n",
       "    <tr>\n",
       "      <th>19</th>\n",
       "      <td>I would probably vote against it</td>\n",
       "      <td>It reduces anxiety about financing basic needs</td>\n",
       "      <td>It might encourage people to stop working | It...</td>\n",
       "    </tr>\n",
       "    <tr>\n",
       "      <th>21</th>\n",
       "      <td>I would probably vote against it</td>\n",
       "      <td>It increases appreciation for household work a...</td>\n",
       "      <td>It might encourage people to stop working | It...</td>\n",
       "    </tr>\n",
       "    <tr>\n",
       "      <th>24</th>\n",
       "      <td>I would probably vote against it</td>\n",
       "      <td>It creates more equality of opportunity | It r...</td>\n",
       "      <td>Only the people who need it most should get so...</td>\n",
       "    </tr>\n",
       "    <tr>\n",
       "      <th>26</th>\n",
       "      <td>I would probably vote against it</td>\n",
       "      <td>It encourages financial independence and self-...</td>\n",
       "      <td>Only the people who need it most should get so...</td>\n",
       "    </tr>\n",
       "    <tr>\n",
       "      <th>...</th>\n",
       "      <td>...</td>\n",
       "      <td>...</td>\n",
       "      <td>...</td>\n",
       "    </tr>\n",
       "    <tr>\n",
       "      <th>9610</th>\n",
       "      <td>I would probably vote against it</td>\n",
       "      <td>None of the above</td>\n",
       "      <td>It might encourage people to stop working</td>\n",
       "    </tr>\n",
       "    <tr>\n",
       "      <th>9623</th>\n",
       "      <td>I would probably vote against it</td>\n",
       "      <td>It reduces bureaucracy and administrative expe...</td>\n",
       "      <td>It increases dependence on the state</td>\n",
       "    </tr>\n",
       "    <tr>\n",
       "      <th>9627</th>\n",
       "      <td>I would probably vote against it</td>\n",
       "      <td>It increases solidarity, because it is funded ...</td>\n",
       "      <td>It increases dependence on the state | It migh...</td>\n",
       "    </tr>\n",
       "    <tr>\n",
       "      <th>9632</th>\n",
       "      <td>I would probably vote against it</td>\n",
       "      <td>None of the above</td>\n",
       "      <td>None of the above</td>\n",
       "    </tr>\n",
       "    <tr>\n",
       "      <th>9645</th>\n",
       "      <td>I would probably vote against it</td>\n",
       "      <td>It reduces bureaucracy and administrative expe...</td>\n",
       "      <td>It might encourage people to stop working | On...</td>\n",
       "    </tr>\n",
       "  </tbody>\n",
       "</table>\n",
       "<p>1439 rows × 3 columns</p>\n",
       "</div>"
      ],
      "text/plain": [
       "                                  vote  \\\n",
       "18    I would probably vote against it   \n",
       "19    I would probably vote against it   \n",
       "21    I would probably vote against it   \n",
       "24    I would probably vote against it   \n",
       "26    I would probably vote against it   \n",
       "...                                ...   \n",
       "9610  I would probably vote against it   \n",
       "9623  I would probably vote against it   \n",
       "9627  I would probably vote against it   \n",
       "9632  I would probably vote against it   \n",
       "9645  I would probably vote against it   \n",
       "\n",
       "                                               pro_args  \\\n",
       "18              It creates more equality of opportunity   \n",
       "19       It reduces anxiety about financing basic needs   \n",
       "21    It increases appreciation for household work a...   \n",
       "24    It creates more equality of opportunity | It r...   \n",
       "26    It encourages financial independence and self-...   \n",
       "...                                                 ...   \n",
       "9610                                  None of the above   \n",
       "9623  It reduces bureaucracy and administrative expe...   \n",
       "9627  It increases solidarity, because it is funded ...   \n",
       "9632                                  None of the above   \n",
       "9645  It reduces bureaucracy and administrative expe...   \n",
       "\n",
       "                                               con_args  \n",
       "18    It is impossible to finance | It might encoura...  \n",
       "19    It might encourage people to stop working | It...  \n",
       "21    It might encourage people to stop working | It...  \n",
       "24    Only the people who need it most should get so...  \n",
       "26    Only the people who need it most should get so...  \n",
       "...                                                 ...  \n",
       "9610          It might encourage people to stop working  \n",
       "9623               It increases dependence on the state  \n",
       "9627  It increases dependence on the state | It migh...  \n",
       "9632                                  None of the above  \n",
       "9645  It might encourage people to stop working | On...  \n",
       "\n",
       "[1439 rows x 3 columns]"
      ]
     },
     "execution_count": 13,
     "metadata": {},
     "output_type": "execute_result"
    }
   ],
   "source": [
    "against_voting"
   ]
  },
  {
   "cell_type": "code",
   "execution_count": 14,
   "metadata": {},
   "outputs": [],
   "source": [
    "for i in abstain_list:\n",
    "    abstain_voting = poll_data[poll_data['vote'] == i]"
   ]
  },
  {
   "cell_type": "code",
   "execution_count": 15,
   "metadata": {},
   "outputs": [
    {
     "data": {
      "text/html": [
       "<div>\n",
       "<style scoped>\n",
       "    .dataframe tbody tr th:only-of-type {\n",
       "        vertical-align: middle;\n",
       "    }\n",
       "\n",
       "    .dataframe tbody tr th {\n",
       "        vertical-align: top;\n",
       "    }\n",
       "\n",
       "    .dataframe thead th {\n",
       "        text-align: right;\n",
       "    }\n",
       "</style>\n",
       "<table border=\"1\" class=\"dataframe\">\n",
       "  <thead>\n",
       "    <tr style=\"text-align: right;\">\n",
       "      <th></th>\n",
       "      <th>vote</th>\n",
       "      <th>pro_args</th>\n",
       "      <th>con_args</th>\n",
       "    </tr>\n",
       "  </thead>\n",
       "  <tbody>\n",
       "    <tr>\n",
       "      <th>0</th>\n",
       "      <td>I would not vote</td>\n",
       "      <td>None of the above</td>\n",
       "      <td>None of the above</td>\n",
       "    </tr>\n",
       "    <tr>\n",
       "      <th>2</th>\n",
       "      <td>I would not vote</td>\n",
       "      <td>It creates more equality of opportunity</td>\n",
       "      <td>Foreigners might come to my country and take a...</td>\n",
       "    </tr>\n",
       "    <tr>\n",
       "      <th>42</th>\n",
       "      <td>I would not vote</td>\n",
       "      <td>None of the above</td>\n",
       "      <td>None of the above</td>\n",
       "    </tr>\n",
       "    <tr>\n",
       "      <th>45</th>\n",
       "      <td>I would not vote</td>\n",
       "      <td>It reduces anxiety about financing basic needs</td>\n",
       "      <td>It is against the principle of linking merit a...</td>\n",
       "    </tr>\n",
       "    <tr>\n",
       "      <th>63</th>\n",
       "      <td>I would not vote</td>\n",
       "      <td>None of the above</td>\n",
       "      <td>None of the above</td>\n",
       "    </tr>\n",
       "    <tr>\n",
       "      <th>...</th>\n",
       "      <td>...</td>\n",
       "      <td>...</td>\n",
       "      <td>...</td>\n",
       "    </tr>\n",
       "    <tr>\n",
       "      <th>9631</th>\n",
       "      <td>I would not vote</td>\n",
       "      <td>It increases solidarity, because it is funded ...</td>\n",
       "      <td>Foreigners might come to my country and take a...</td>\n",
       "    </tr>\n",
       "    <tr>\n",
       "      <th>9634</th>\n",
       "      <td>I would not vote</td>\n",
       "      <td>None of the above</td>\n",
       "      <td>None of the above</td>\n",
       "    </tr>\n",
       "    <tr>\n",
       "      <th>9635</th>\n",
       "      <td>I would not vote</td>\n",
       "      <td>None of the above</td>\n",
       "      <td>None of the above</td>\n",
       "    </tr>\n",
       "    <tr>\n",
       "      <th>9641</th>\n",
       "      <td>I would not vote</td>\n",
       "      <td>It reduces bureaucracy and administrative expe...</td>\n",
       "      <td>Foreigners might come to my country and take a...</td>\n",
       "    </tr>\n",
       "    <tr>\n",
       "      <th>9646</th>\n",
       "      <td>I would not vote</td>\n",
       "      <td>It reduces anxiety about financing basic needs</td>\n",
       "      <td>None of the above</td>\n",
       "    </tr>\n",
       "  </tbody>\n",
       "</table>\n",
       "<p>1159 rows × 3 columns</p>\n",
       "</div>"
      ],
      "text/plain": [
       "                  vote                                           pro_args  \\\n",
       "0     I would not vote                                  None of the above   \n",
       "2     I would not vote            It creates more equality of opportunity   \n",
       "42    I would not vote                                  None of the above   \n",
       "45    I would not vote     It reduces anxiety about financing basic needs   \n",
       "63    I would not vote                                  None of the above   \n",
       "...                ...                                                ...   \n",
       "9631  I would not vote  It increases solidarity, because it is funded ...   \n",
       "9634  I would not vote                                  None of the above   \n",
       "9635  I would not vote                                  None of the above   \n",
       "9641  I would not vote  It reduces bureaucracy and administrative expe...   \n",
       "9646  I would not vote     It reduces anxiety about financing basic needs   \n",
       "\n",
       "                                               con_args  \n",
       "0                                     None of the above  \n",
       "2     Foreigners might come to my country and take a...  \n",
       "42                                    None of the above  \n",
       "45    It is against the principle of linking merit a...  \n",
       "63                                    None of the above  \n",
       "...                                                 ...  \n",
       "9631  Foreigners might come to my country and take a...  \n",
       "9634                                  None of the above  \n",
       "9635                                  None of the above  \n",
       "9641  Foreigners might come to my country and take a...  \n",
       "9646                                  None of the above  \n",
       "\n",
       "[1159 rows x 3 columns]"
      ]
     },
     "execution_count": 15,
     "metadata": {},
     "output_type": "execute_result"
    }
   ],
   "source": [
    "abstain_voting"
   ]
  },
  {
   "cell_type": "code",
   "execution_count": 16,
   "metadata": {},
   "outputs": [
    {
     "data": {
      "text/plain": [
       "366"
      ]
     },
     "execution_count": 16,
     "metadata": {},
     "output_type": "execute_result"
    }
   ],
   "source": [
    "#pro and cons arguments for in favour people\n",
    "\n",
    "for_pro_args = len(for_voting['pro_args'].unique().tolist())\n",
    "for_pro_args"
   ]
  },
  {
   "cell_type": "code",
   "execution_count": 17,
   "metadata": {},
   "outputs": [
    {
     "data": {
      "text/plain": [
       "462"
      ]
     },
     "execution_count": 17,
     "metadata": {},
     "output_type": "execute_result"
    }
   ],
   "source": [
    "for_con_args = len(for_voting['con_args'].unique().tolist())\n",
    "for_con_args"
   ]
  },
  {
   "cell_type": "code",
   "execution_count": 18,
   "metadata": {},
   "outputs": [
    {
     "data": {
      "text/plain": [
       "123"
      ]
     },
     "execution_count": 18,
     "metadata": {},
     "output_type": "execute_result"
    }
   ],
   "source": [
    "#pro and cons arguments for against people\n",
    "\n",
    "against_pro_args = len(against_voting['pro_args'].unique().tolist())\n",
    "against_pro_args"
   ]
  },
  {
   "cell_type": "code",
   "execution_count": 19,
   "metadata": {},
   "outputs": [
    {
     "data": {
      "text/plain": [
       "440"
      ]
     },
     "execution_count": 19,
     "metadata": {},
     "output_type": "execute_result"
    }
   ],
   "source": [
    "against_con_args = len(against_voting['con_args'].unique().tolist())\n",
    "against_con_args"
   ]
  },
  {
   "cell_type": "code",
   "execution_count": 20,
   "metadata": {},
   "outputs": [
    {
     "data": {
      "text/plain": [
       "80"
      ]
     },
     "execution_count": 20,
     "metadata": {},
     "output_type": "execute_result"
    }
   ],
   "source": [
    "#pro and cons arguments for absteined people\n",
    "\n",
    "abstain_pro_args = len(abstain_voting['pro_args'].unique().tolist())\n",
    "abstain_pro_args"
   ]
  },
  {
   "cell_type": "code",
   "execution_count": 21,
   "metadata": {},
   "outputs": [
    {
     "data": {
      "text/plain": [
       "120"
      ]
     },
     "execution_count": 21,
     "metadata": {},
     "output_type": "execute_result"
    }
   ],
   "source": [
    "abstain_con_args = len(abstain_voting['con_args'].unique().tolist())\n",
    "abstain_con_args"
   ]
  },
  {
   "cell_type": "code",
   "execution_count": 27,
   "metadata": {},
   "outputs": [],
   "source": [
    "votes_dict = {'Number of Pro Arguments' : [for_pro_args, against_pro_args, abstain_pro_args],\n",
    "             'Number of Con Arguments' : [for_con_args, against_con_args, abstain_con_args]}"
   ]
  },
  {
   "cell_type": "code",
   "execution_count": 28,
   "metadata": {},
   "outputs": [],
   "source": [
    "votes_df = pd.DataFrame(votes_dict, index=['In Favour', 'Against', 'Abstained'])"
   ]
  },
  {
   "cell_type": "code",
   "execution_count": 29,
   "metadata": {},
   "outputs": [
    {
     "data": {
      "text/html": [
       "<div>\n",
       "<style scoped>\n",
       "    .dataframe tbody tr th:only-of-type {\n",
       "        vertical-align: middle;\n",
       "    }\n",
       "\n",
       "    .dataframe tbody tr th {\n",
       "        vertical-align: top;\n",
       "    }\n",
       "\n",
       "    .dataframe thead th {\n",
       "        text-align: right;\n",
       "    }\n",
       "</style>\n",
       "<table border=\"1\" class=\"dataframe\">\n",
       "  <thead>\n",
       "    <tr style=\"text-align: right;\">\n",
       "      <th></th>\n",
       "      <th>Number of Pro Arguments</th>\n",
       "      <th>Number of Con Arguments</th>\n",
       "    </tr>\n",
       "  </thead>\n",
       "  <tbody>\n",
       "    <tr>\n",
       "      <th>In Favour</th>\n",
       "      <td>366</td>\n",
       "      <td>462</td>\n",
       "    </tr>\n",
       "    <tr>\n",
       "      <th>Against</th>\n",
       "      <td>123</td>\n",
       "      <td>440</td>\n",
       "    </tr>\n",
       "    <tr>\n",
       "      <th>Abstained</th>\n",
       "      <td>80</td>\n",
       "      <td>120</td>\n",
       "    </tr>\n",
       "  </tbody>\n",
       "</table>\n",
       "</div>"
      ],
      "text/plain": [
       "           Number of Pro Arguments  Number of Con Arguments\n",
       "In Favour                      366                      462\n",
       "Against                        123                      440\n",
       "Abstained                       80                      120"
      ]
     },
     "execution_count": 29,
     "metadata": {},
     "output_type": "execute_result"
    }
   ],
   "source": [
    "votes_df"
   ]
  },
  {
   "cell_type": "code",
   "execution_count": null,
   "metadata": {},
   "outputs": [],
   "source": []
  }
 ],
 "metadata": {
  "kernelspec": {
   "display_name": "Python [conda env:ironhack_env]",
   "language": "python",
   "name": "conda-env-ironhack_env-py"
  },
  "language_info": {
   "codemirror_mode": {
    "name": "ipython",
    "version": 3
   },
   "file_extension": ".py",
   "mimetype": "text/x-python",
   "name": "python",
   "nbconvert_exporter": "python",
   "pygments_lexer": "ipython3",
   "version": "3.8.5"
  }
 },
 "nbformat": 4,
 "nbformat_minor": 4
}
