{
 "cells": [
  {
   "cell_type": "code",
   "execution_count": 28,
   "metadata": {},
   "outputs": [],
   "source": [
    "import pandas as pd"
   ]
  },
  {
   "cell_type": "code",
   "execution_count": 29,
   "metadata": {},
   "outputs": [],
   "source": [
    "def cleaning_ages_step1(rawdb):\n",
    "\n",
    "    db_data = pd.read_csv(rawdb)\n",
    "    \n",
    "    age_group = db_data['age_group'].tolist()\n",
    "    \n",
    "    clean_age_group = [i.replace('_', '-') for i in age_group]\n",
    "    properly_age_group = [i.replace('juvenile', '14-25') for i in clean_age_group]\n",
    "\n",
    "    db_data['age_group'] = properly_age_group\n",
    "\n",
    "    return db_data"
   ]
  },
  {
   "cell_type": "code",
   "execution_count": 30,
   "metadata": {},
   "outputs": [],
   "source": [
    "def cleaning_ages_step2(clean_age_df):\n",
    "\n",
    "    age_group = clean_age_df['age_group'].tolist()\n",
    "\n",
    "    new_age_group = []\n",
    "\n",
    "    for i in age_group:\n",
    "        if i == '14-25':\n",
    "            new_age_group.append(i.replace('14-25', '18-29'))\n",
    "        elif i == '26-39':\n",
    "            new_age_group.append(i.replace('26-39', '30-49'))\n",
    "        else:\n",
    "            new_age_group.append(i.replace('40-65', '50-69'))\n",
    "\n",
    "    clean_age_df['age_group'] = new_age_group\n",
    "\n",
    "    return clean_age_df"
   ]
  },
  {
   "cell_type": "code",
   "execution_count": 31,
   "metadata": {},
   "outputs": [],
   "source": [
    "rawdb='../data/raw/data_from_db.csv'"
   ]
  },
  {
   "cell_type": "code",
   "execution_count": 125,
   "metadata": {},
   "outputs": [],
   "source": [
    "clean_age_group_column = cleaning_ages_step2(cleaning_ages_step1(rawdb))"
   ]
  },
  {
   "cell_type": "code",
   "execution_count": 122,
   "metadata": {},
   "outputs": [],
   "source": [
    "def completing_country_names(countrydf):\n",
    "    \n",
    "    country_df = pd.read_csv(countrydf)\n",
    "    \n",
    "    country_names_df = country_df.rename(columns={'Unnamed: 0': 'country', '0': 'country_codes'})\n",
    "    \n",
    "    country_names_df['country_codes'][1] = 'GR'\n",
    "    \n",
    "    return country_names_df"
   ]
  },
  {
   "cell_type": "code",
   "execution_count": 123,
   "metadata": {},
   "outputs": [],
   "source": [
    "countrydf = '../data/raw/country_names.csv'"
   ]
  },
  {
   "cell_type": "code",
   "execution_count": 135,
   "metadata": {},
   "outputs": [],
   "source": [
    "complete_countries = completing_country_names(countrydf)"
   ]
  },
  {
   "cell_type": "code",
   "execution_count": 132,
   "metadata": {},
   "outputs": [],
   "source": [
    "def merging_jobs_ages(jobsdf, ages_df):\n",
    "    job_titles_df = pd.read_csv(jobsdf)\n",
    "    merged_df = ages_df.merge(job_titles_df, left_on='normalized_job_code', right_on='uuid')\n",
    "    cleaning_df = merged_df.drop(columns = ['normalized_job_code', 'error', 'uuid_y', 'normalized_job_title', 'parent_uuid'])\n",
    "    first_almost_proper_df = cleaning_df.fillna('Unemployed')\n",
    "    \n",
    "    return first_almost_proper_df"
   ]
  },
  {
   "cell_type": "code",
   "execution_count": 133,
   "metadata": {},
   "outputs": [],
   "source": [
    "jobsdf = '../data/raw/job_titles_df.csv'"
   ]
  },
  {
   "cell_type": "code",
   "execution_count": 136,
   "metadata": {},
   "outputs": [],
   "source": [
    "jobs_and_ages = merging_jobs_ages(jobsdf, clean_age_group_column)"
   ]
  },
  {
   "cell_type": "code",
   "execution_count": 145,
   "metadata": {},
   "outputs": [],
   "source": [
    "def merging_countries(countries, job_and_ages):\n",
    "    \n",
    "    merging_countries = countries.merge(job_and_ages, left_on='country_codes', right_on='country_code')\n",
    "    cleaning_df = merging_countries.drop(columns=['country_codes', 'country_code', 'uuid_x'])\n",
    "    processed_df = cleaning_df.rename(columns={'country': 'Country', 'age_group': 'Age Group', 'title': 'Job Title'})\n",
    "    \n",
    "    processed_df.to_csv('../data/processed/processed_df.csv')\n",
    "    \n",
    "    return processed_df"
   ]
  },
  {
   "cell_type": "code",
   "execution_count": 146,
   "metadata": {},
   "outputs": [
    {
     "data": {
      "text/html": [
       "<div>\n",
       "<style scoped>\n",
       "    .dataframe tbody tr th:only-of-type {\n",
       "        vertical-align: middle;\n",
       "    }\n",
       "\n",
       "    .dataframe tbody tr th {\n",
       "        vertical-align: top;\n",
       "    }\n",
       "\n",
       "    .dataframe thead th {\n",
       "        text-align: right;\n",
       "    }\n",
       "</style>\n",
       "<table border=\"1\" class=\"dataframe\">\n",
       "  <thead>\n",
       "    <tr style=\"text-align: right;\">\n",
       "      <th></th>\n",
       "      <th>Country</th>\n",
       "      <th>Age Group</th>\n",
       "      <th>Job Title</th>\n",
       "    </tr>\n",
       "  </thead>\n",
       "  <tbody>\n",
       "    <tr>\n",
       "      <th>0</th>\n",
       "      <td>Belgium</td>\n",
       "      <td>50-69</td>\n",
       "      <td>Unemployed</td>\n",
       "    </tr>\n",
       "    <tr>\n",
       "      <th>1</th>\n",
       "      <td>Belgium</td>\n",
       "      <td>50-69</td>\n",
       "      <td>Unemployed</td>\n",
       "    </tr>\n",
       "    <tr>\n",
       "      <th>2</th>\n",
       "      <td>Belgium</td>\n",
       "      <td>18-29</td>\n",
       "      <td>Unemployed</td>\n",
       "    </tr>\n",
       "    <tr>\n",
       "      <th>3</th>\n",
       "      <td>Belgium</td>\n",
       "      <td>50-69</td>\n",
       "      <td>Unemployed</td>\n",
       "    </tr>\n",
       "    <tr>\n",
       "      <th>4</th>\n",
       "      <td>Belgium</td>\n",
       "      <td>30-49</td>\n",
       "      <td>Unemployed</td>\n",
       "    </tr>\n",
       "    <tr>\n",
       "      <th>...</th>\n",
       "      <td>...</td>\n",
       "      <td>...</td>\n",
       "      <td>...</td>\n",
       "    </tr>\n",
       "    <tr>\n",
       "      <th>9644</th>\n",
       "      <td>Great Britain</td>\n",
       "      <td>50-69</td>\n",
       "      <td>Data Analysis Assistant</td>\n",
       "    </tr>\n",
       "    <tr>\n",
       "      <th>9645</th>\n",
       "      <td>Great Britain</td>\n",
       "      <td>50-69</td>\n",
       "      <td>Data Analysis Assistant</td>\n",
       "    </tr>\n",
       "    <tr>\n",
       "      <th>9646</th>\n",
       "      <td>Great Britain</td>\n",
       "      <td>30-49</td>\n",
       "      <td>Data Examination Clerk</td>\n",
       "    </tr>\n",
       "    <tr>\n",
       "      <th>9647</th>\n",
       "      <td>Great Britain</td>\n",
       "      <td>30-49</td>\n",
       "      <td>Data Examination Clerk</td>\n",
       "    </tr>\n",
       "    <tr>\n",
       "      <th>9648</th>\n",
       "      <td>Great Britain</td>\n",
       "      <td>50-69</td>\n",
       "      <td>Data Entry Clerk</td>\n",
       "    </tr>\n",
       "  </tbody>\n",
       "</table>\n",
       "<p>9649 rows × 3 columns</p>\n",
       "</div>"
      ],
      "text/plain": [
       "            Country Age Group                Job Title\n",
       "0           Belgium     50-69               Unemployed\n",
       "1           Belgium     50-69               Unemployed\n",
       "2           Belgium     18-29               Unemployed\n",
       "3           Belgium     50-69               Unemployed\n",
       "4           Belgium     30-49               Unemployed\n",
       "...             ...       ...                      ...\n",
       "9644  Great Britain     50-69  Data Analysis Assistant\n",
       "9645  Great Britain     50-69  Data Analysis Assistant\n",
       "9646  Great Britain     30-49   Data Examination Clerk\n",
       "9647  Great Britain     30-49   Data Examination Clerk\n",
       "9648  Great Britain     50-69         Data Entry Clerk\n",
       "\n",
       "[9649 rows x 3 columns]"
      ]
     },
     "execution_count": 146,
     "metadata": {},
     "output_type": "execute_result"
    }
   ],
   "source": [
    "merging_countries(complete_countries, jobs_and_ages)"
   ]
  },
  {
   "cell_type": "code",
   "execution_count": null,
   "metadata": {},
   "outputs": [],
   "source": []
  },
  {
   "cell_type": "code",
   "execution_count": null,
   "metadata": {},
   "outputs": [],
   "source": []
  },
  {
   "cell_type": "code",
   "execution_count": null,
   "metadata": {},
   "outputs": [],
   "source": []
  }
 ],
 "metadata": {
  "kernelspec": {
   "display_name": "Python [conda env:ironhack_env]",
   "language": "python",
   "name": "conda-env-ironhack_env-py"
  },
  "language_info": {
   "codemirror_mode": {
    "name": "ipython",
    "version": 3
   },
   "file_extension": ".py",
   "mimetype": "text/x-python",
   "name": "python",
   "nbconvert_exporter": "python",
   "pygments_lexer": "ipython3",
   "version": "3.8.5"
  }
 },
 "nbformat": 4,
 "nbformat_minor": 4
}
