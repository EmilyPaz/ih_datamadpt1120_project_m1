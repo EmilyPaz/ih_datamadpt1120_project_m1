{
 "cells": [
  {
   "cell_type": "code",
   "execution_count": 1,
   "metadata": {},
   "outputs": [],
   "source": [
    "import requests\n",
    "import pandas as pd\n",
    "import sqlalchemy as db\n",
    "from sqlalchemy import create_engine\n",
    "from bs4 import BeautifulSoup"
   ]
  },
  {
   "cell_type": "code",
   "execution_count": 2,
   "metadata": {},
   "outputs": [],
   "source": [
    "def database_connection(path):\n",
    "    \"\"\"\n",
    "    creating connection to sqlite database and creating a dataframe with the information we will need from its tables\n",
    "    \"\"\"\n",
    "\n",
    "    conn_str = f'sqlite:///{path}'\n",
    "\n",
    "    engine = create_engine(conn_str)\n",
    "\n",
    "    data = pd.read_sql_query(\"\"\"\n",
    "        SELECT career_info.uuid,\n",
    "        career_info.normalized_job_code,\n",
    "        country_info.country_code,\n",
    "        personal_info.age_group\n",
    "        FROM career_info\n",
    "        JOIN country_info\n",
    "        ON country_info.uuid = career_info.uuid\n",
    "        JOIN personal_info\n",
    "        ON personal_info.uuid = career_info.uuid;\n",
    "        \"\"\", engine)\n",
    "\n",
    "    raw_db_data = data.to_csv('../data/raw/data_from_db.csv')\n",
    "    return raw_db_data"
   ]
  },
  {
   "cell_type": "code",
   "execution_count": 3,
   "metadata": {},
   "outputs": [],
   "source": [
    "def creating_url_list(rawdb):\n",
    "    \"\"\"\n",
    "    creating a list of urls with each job code\n",
    "    \"\"\"\n",
    "\n",
    "    raw_db_data = pd.read_csv(rawdb)\n",
    "\n",
    "    job_code_list = raw_db_data['normalized_job_code'].unique().tolist()\n",
    "    url_list = []\n",
    "    for code in job_code_list:\n",
    "        url_list.append(f'http://api.dataatwork.org/v1/jobs/{code}')\n",
    "\n",
    "    return url_list"
   ]
  },
  {
   "cell_type": "code",
   "execution_count": 4,
   "metadata": {},
   "outputs": [],
   "source": [
    "def connecting_api(url_list):\n",
    "    \"\"\"\n",
    "    creating the connection to the api where we can find the job titles and creating a dataframe with them\n",
    "    \"\"\"\n",
    "\n",
    "    json_data_list = []\n",
    "\n",
    "    for url in url_list:\n",
    "        response = requests.get(url)\n",
    "        json_data = response.json()\n",
    "        json_data_list.append(json_data)\n",
    "\n",
    "    job_titles_df = (pd.DataFrame(json_data_list)).to_csv('data/raw/job_titles_df.csv')\n",
    "\n",
    "    return job_titles_df"
   ]
  },
  {
   "cell_type": "code",
   "execution_count": 6,
   "metadata": {},
   "outputs": [],
   "source": [
    "def web_scraping(url):\n",
    "    \"\"\"\n",
    "    web scraping to eurostat page to extract a table with the country names and country codes, then creating a\n",
    "    dataframe with this info\n",
    "    \"\"\"\n",
    "\n",
    "    html = requests.get(url).content\n",
    "    soup = BeautifulSoup(html, 'html.parser')\n",
    "    table = soup.find('table')\n",
    "\n",
    "    items = [x.text for x in table.find_all('td')]\n",
    "    clean_items = [i.strip('\\n') for i in items]\n",
    "\n",
    "    countrys = []\n",
    "    country_codes = []\n",
    "\n",
    "    for i in clean_items:\n",
    "        if i.startswith('('):\n",
    "            country_codes.append(i[1:-1])\n",
    "        else:\n",
    "            countrys.append(i)\n",
    "\n",
    "    country_dict = dict(zip(countrys, country_codes))\n",
    "    country_df = pd.DataFrame.from_dict(country_dict, orient='index')\n",
    "\n",
    "    country_names_csv = country_df.to_csv('data/raw/country_names.csv')\n",
    "\n",
    "    return country_names_csv"
   ]
  },
  {
   "cell_type": "code",
   "execution_count": 7,
   "metadata": {},
   "outputs": [],
   "source": [
    "def acquire(path, rawdb, url):\n",
    "\n",
    "    print('connecting sqlite database and extracting a dataframe...')\n",
    "    database_connection(path)\n",
    "\n",
    "    print('establishing connection with the API...')\n",
    "    creating_url_list(rawdb)\n",
    "\n",
    "    print('creating dataframe with job titles...')\n",
    "    url_list = creating_url_list(rawdb)\n",
    "    connecting_api(url_list)\n",
    "\n",
    "    print('creating dataframe with country names...')\n",
    "    web_scraping(url)"
   ]
  },
  {
   "cell_type": "code",
   "execution_count": null,
   "metadata": {},
   "outputs": [],
   "source": []
  },
  {
   "cell_type": "code",
   "execution_count": null,
   "metadata": {},
   "outputs": [],
   "source": []
  },
  {
   "cell_type": "code",
   "execution_count": null,
   "metadata": {},
   "outputs": [],
   "source": []
  },
  {
   "cell_type": "code",
   "execution_count": null,
   "metadata": {},
   "outputs": [],
   "source": []
  },
  {
   "cell_type": "code",
   "execution_count": null,
   "metadata": {},
   "outputs": [],
   "source": []
  },
  {
   "cell_type": "code",
   "execution_count": null,
   "metadata": {},
   "outputs": [],
   "source": []
  },
  {
   "cell_type": "code",
   "execution_count": null,
   "metadata": {},
   "outputs": [],
   "source": []
  },
  {
   "cell_type": "code",
   "execution_count": null,
   "metadata": {},
   "outputs": [],
   "source": []
  }
 ],
 "metadata": {
  "kernelspec": {
   "display_name": "Python [conda env:ironhack_env]",
   "language": "python",
   "name": "conda-env-ironhack_env-py"
  },
  "language_info": {
   "codemirror_mode": {
    "name": "ipython",
    "version": 3
   },
   "file_extension": ".py",
   "mimetype": "text/x-python",
   "name": "python",
   "nbconvert_exporter": "python",
   "pygments_lexer": "ipython3",
   "version": "3.8.5"
  }
 },
 "nbformat": 4,
 "nbformat_minor": 4
}
